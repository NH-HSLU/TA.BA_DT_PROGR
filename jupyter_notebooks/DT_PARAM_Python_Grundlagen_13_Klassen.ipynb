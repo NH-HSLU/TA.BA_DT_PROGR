{
 "cells": [
  {
   "cell_type": "code",
   "execution_count": 1,
   "metadata": {},
   "outputs": [
    {
     "name": "stdout",
     "output_type": "stream",
     "text": [
      "0\n",
      "120\n",
      "40\n",
      "Audi\n"
     ]
    }
   ],
   "source": [
    "class Auto():\n",
    "    def __init__(self, farbe, marke):\n",
    "        self.marke = marke\n",
    "        self.farbe = farbe\n",
    "        self.speed = 0\n",
    "        \n",
    "    def getSpeed(self):\n",
    "        return self.speed\n",
    "    \n",
    "       \n",
    "    def Beschleunigen(self,menge):\n",
    "        self.speed += menge\n",
    "        \n",
    "    def Bremsen(self,menge):\n",
    "        if(self.speed > 0):\n",
    "            self.speed -= menge\n",
    "            if(self.speed < 0):\n",
    "                self.speed = 0\n",
    "                \n",
    "\n",
    "mein_auto = Auto(\"Blau\",\"Audi\")\n",
    "\n",
    "speed = mein_auto.getSpeed()\n",
    "print(speed)\n",
    "\n",
    "mein_auto.Beschleunigen(120)\n",
    "\n",
    "speed = mein_auto.getSpeed()\n",
    "print(speed)\n",
    "\n",
    "mein_auto.Bremsen(80)\n",
    "\n",
    "speed = mein_auto.getSpeed()\n",
    "print(speed)\n",
    "\n",
    "print(mein_auto.marke)\n",
    "        "
   ]
  },
  {
   "cell_type": "code",
   "execution_count": 2,
   "metadata": {},
   "outputs": [
    {
     "name": "stdout",
     "output_type": "stream",
     "text": [
      "VW\n"
     ]
    }
   ],
   "source": [
    "auto_2 = Auto(\"Gelb\",\"VW\")\n",
    "\n",
    "print(auto_2.marke)"
   ]
  },
  {
   "cell_type": "code",
   "execution_count": 3,
   "metadata": {},
   "outputs": [
    {
     "name": "stdout",
     "output_type": "stream",
     "text": [
      "0\n"
     ]
    }
   ],
   "source": [
    "print(auto_2.getSpeed())"
   ]
  },
  {
   "cell_type": "code",
   "execution_count": 16,
   "metadata": {},
   "outputs": [],
   "source": [
    "class Student():\n",
    "    def __init__(self,vorname,name,studiengang):\n",
    "        self.vorname = vorname\n",
    "        self.name = name\n",
    "        self.studiengang = studiengang\n",
    "        \n",
    "    def getStudentName(self):\n",
    "        return(\"Der Student heisst: \" + self.vorname + \" \" + self.name)\n",
    "    \n"
   ]
  },
  {
   "cell_type": "code",
   "execution_count": 13,
   "metadata": {},
   "outputs": [],
   "source": [
    "stud_1 = Student(\"Felix\",\"Mustermann\",\"DC\")"
   ]
  },
  {
   "cell_type": "code",
   "execution_count": 14,
   "metadata": {},
   "outputs": [
    {
     "name": "stdout",
     "output_type": "stream",
     "text": [
      "DC\n"
     ]
    }
   ],
   "source": [
    "print(stud_1.studiengang)"
   ]
  },
  {
   "cell_type": "code",
   "execution_count": 15,
   "metadata": {},
   "outputs": [
    {
     "data": {
      "text/plain": [
       "'Der Student heisst: Felix Mustermann'"
      ]
     },
     "execution_count": 15,
     "metadata": {},
     "output_type": "execute_result"
    }
   ],
   "source": [
    "stud_1.getStudentName()"
   ]
  },
  {
   "cell_type": "code",
   "execution_count": 18,
   "metadata": {},
   "outputs": [
    {
     "data": {
      "text/plain": [
       "'dc'"
      ]
     },
     "execution_count": 18,
     "metadata": {},
     "output_type": "execute_result"
    }
   ],
   "source": [
    "stud_1.studiengang.lower()"
   ]
  },
  {
   "cell_type": "code",
   "execution_count": null,
   "metadata": {},
   "outputs": [],
   "source": []
  }
 ],
 "metadata": {
  "kernelspec": {
   "display_name": "Python 3 (ipykernel)",
   "language": "python",
   "name": "python3"
  },
  "language_info": {
   "codemirror_mode": {
    "name": "ipython",
    "version": 3
   },
   "file_extension": ".py",
   "mimetype": "text/x-python",
   "name": "python",
   "nbconvert_exporter": "python",
   "pygments_lexer": "ipython3",
   "version": "3.12.3"
  }
 },
 "nbformat": 4,
 "nbformat_minor": 4
}
