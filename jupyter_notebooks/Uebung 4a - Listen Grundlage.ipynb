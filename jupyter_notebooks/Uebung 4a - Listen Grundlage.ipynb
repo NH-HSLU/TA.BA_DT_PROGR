{
 "cells": [
  {
   "cell_type": "code",
   "execution_count": 5,
   "id": "15b509ad",
   "metadata": {},
   "outputs": [],
   "source": [
    "listOfNumbers = [1,5,3,456,25,5161,132,1,56,3,156,15,79,78,189,89,16]"
   ]
  },
  {
   "cell_type": "code",
   "execution_count": 6,
   "id": "539f30f3",
   "metadata": {},
   "outputs": [
    {
     "name": "stdout",
     "output_type": "stream",
     "text": [
      "1\n",
      "6\n",
      "9\n",
      "465\n",
      "490\n",
      "5651\n",
      "5783\n",
      "5784\n",
      "5840\n",
      "5843\n",
      "5999\n",
      "6014\n",
      "6093\n",
      "6171\n",
      "6360\n",
      "6449\n",
      "6465\n",
      "Die Summe aller Nummern in der Liste ist: 6465\n"
     ]
    }
   ],
   "source": [
    "total = 0\n",
    "for i in listOfNumbers:\n",
    "    total = total + i\n",
    "    print(total)\n",
    "print(\"Die Summe aller Nummern in der Liste ist:\", total)"
   ]
  },
  {
   "cell_type": "code",
   "execution_count": 7,
   "id": "1b9bcf2e",
   "metadata": {},
   "outputs": [
    {
     "name": "stdout",
     "output_type": "stream",
     "text": [
      "1\n",
      "6\n",
      "9\n",
      "465\n",
      "490\n",
      "5651\n",
      "5783\n",
      "5784\n",
      "5840\n",
      "5843\n",
      "5999\n",
      "6014\n",
      "6093\n",
      "6171\n",
      "6360\n",
      "6449\n",
      "6465\n",
      "Die Summe aller Nummern in der Liste ist: 6465\n"
     ]
    }
   ],
   "source": [
    "total = 0\n",
    "for i in listOfNumbers:\n",
    "    total += i\n",
    "    print(total)\n",
    "print(\"Die Summe aller Nummern in der Liste ist:\", total)"
   ]
  },
  {
   "cell_type": "code",
   "execution_count": 8,
   "id": "b149aa47",
   "metadata": {},
   "outputs": [
    {
     "name": "stdout",
     "output_type": "stream",
     "text": [
      "1\n",
      "6\n",
      "9\n",
      "465\n",
      "490\n",
      "5651\n",
      "5783\n",
      "5784\n",
      "5840\n",
      "5843\n",
      "5999\n",
      "6014\n",
      "6093\n",
      "6171\n",
      "6360\n",
      "6449\n",
      "6465\n",
      "Die Summe aller Nummern in der Liste ist: 6465\n"
     ]
    }
   ],
   "source": [
    "total = 0\n",
    "i = 0\n",
    "while i < len(listOfNumbers):\n",
    "    total = total + listOfNumbers[i]\n",
    "    print(total)\n",
    "    i += 1\n",
    "print(\"Die Summe aller Nummern in der Liste ist:\", total)"
   ]
  },
  {
   "cell_type": "code",
   "execution_count": null,
   "id": "baa99313",
   "metadata": {},
   "outputs": [],
   "source": []
  }
 ],
 "metadata": {
  "kernelspec": {
   "display_name": ".venv",
   "language": "python",
   "name": "python3"
  },
  "language_info": {
   "codemirror_mode": {
    "name": "ipython",
    "version": 3
   },
   "file_extension": ".py",
   "mimetype": "text/x-python",
   "name": "python",
   "nbconvert_exporter": "python",
   "pygments_lexer": "ipython3",
   "version": "3.13.7"
  }
 },
 "nbformat": 4,
 "nbformat_minor": 5
}
