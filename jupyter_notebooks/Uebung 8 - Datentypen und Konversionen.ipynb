{
 "cells": [
  {
   "cell_type": "markdown",
   "id": "a176d223",
   "metadata": {},
   "source": [
    "# Übung Datentypen\n",
    " \n",
    "\n",
    "1. Frage, wie hoch deine Miete im Monat ist.\n",
    "1. Frage, wie hoch die Nebenkosten sind.\n",
    "1. Konvertiere die Eingaben zu Nummern / Kontrolliere, dass es Nummern ist.\n",
    "1. Rechne es zusammen.\n",
    "1. Rechne es auf die Kosten pro Jahr um.\n",
    "1. Rechne es auf die Kosten pro Tag um.\n",
    "1. Rechne es auf 80 Jahre Laufzeit um.\n",
    "1. Rechne es in Millionen um. \n",
    "1. Formatiere die Nummer auf 2 Kommastellen. \n"
   ]
  },
  {
   "cell_type": "code",
   "execution_count": 4,
   "id": "4e8baa45",
   "metadata": {
    "scrolled": true
   },
   "outputs": [
    {
     "name": "stdout",
     "output_type": "stream",
     "text": [
      "Deine Miete pro Monat beträgt: 2500\n"
     ]
    }
   ],
   "source": [
    "yourRent = input(\"Monatliche Miete:\")\n",
    "\n",
    "try:    \n",
    "    yourRent = float(yourRent)\n",
    "    print(\"Deine Miete pro Monat beträgt: {}\".format(str(int(yourRent))))\n",
    "except ValueError:\n",
    "    print(\"Das ist keine Nummer!\")"
   ]
  },
  {
   "cell_type": "code",
   "execution_count": null,
   "id": "b487a8cb",
   "metadata": {},
   "outputs": [],
   "source": [
    "additionalCost = input(\"Monatliche Nebenkosten:\")\n",
    "\n",
    "try:\n",
    "    float(additionalCost)\n",
    "    additionalCost = float(additionalCost)\n",
    "except ValueError:\n",
    "    print(\"Das ist keine Nummer!\")"
   ]
  },
  {
   "cell_type": "code",
   "execution_count": null,
   "id": "13f7c3f0",
   "metadata": {},
   "outputs": [],
   "source": [
    "monthlyCost = additionalCost + yourRent\n",
    "print(monthlyCost)"
   ]
  },
  {
   "cell_type": "code",
   "execution_count": null,
   "id": "34487c53",
   "metadata": {},
   "outputs": [],
   "source": [
    "yearlyRent = monthlyCost * 12\n",
    "print(yearlyRent)"
   ]
  },
  {
   "cell_type": "code",
   "execution_count": null,
   "id": "0c8c70ac",
   "metadata": {},
   "outputs": [],
   "source": [
    "dailyRent = yearlyRent / 365\n",
    "print(dailyRent)"
   ]
  },
  {
   "cell_type": "code",
   "execution_count": null,
   "id": "6f171ebd",
   "metadata": {},
   "outputs": [],
   "source": [
    "rentFor80Years = yearlyRent * 80\n",
    "print(rentFor80Years)"
   ]
  },
  {
   "cell_type": "code",
   "execution_count": null,
   "id": "07ec5926",
   "metadata": {},
   "outputs": [],
   "source": [
    "print(\"Monatlich ist die Miete: \" + str(yourRent))\n",
    "print(\"Im Jahr sind es dann: \" + str(yearlyRent))\n",
    "print(\"Pro Tag nur: \" + str(dailyRent))\n",
    "print(\"Aber auf 80 Jahre hochgerechnet dann stolze: \" + str(rentFor80Years))\n",
    "print(\"Oder anders gesagt, %s Millionen!\" %str(round(rentFor80Years/1000000,2)))"
   ]
  }
 ],
 "metadata": {
  "kernelspec": {
   "display_name": "Python 3 (ipykernel)",
   "language": "python",
   "name": "python3"
  },
  "language_info": {
   "codemirror_mode": {
    "name": "ipython",
    "version": 3
   },
   "file_extension": ".py",
   "mimetype": "text/x-python",
   "name": "python",
   "nbconvert_exporter": "python",
   "pygments_lexer": "ipython3",
   "version": "3.12.3"
  }
 },
 "nbformat": 4,
 "nbformat_minor": 5
}
