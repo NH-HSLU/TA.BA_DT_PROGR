{
 "cells": [
  {
   "cell_type": "code",
   "execution_count": 1,
   "id": "ff8655ee",
   "metadata": {},
   "outputs": [
    {
     "name": "stdout",
     "output_type": "stream",
     "text": [
      "Regnet es heute draussen? (ja/nein) j\n",
      "False\n"
     ]
    }
   ],
   "source": [
    "regen = input(\"Regnet es heute draussen? (ja/nein) \")\n",
    "if regen == \"ja\":\n",
    "    regenBool = True\n",
    "else:\n",
    "    regenBool = False\n",
    "\n",
    "print(regenBool)"
   ]
  },
  {
   "cell_type": "code",
   "execution_count": 2,
   "id": "4f27332e",
   "metadata": {},
   "outputs": [
    {
     "name": "stdout",
     "output_type": "stream",
     "text": [
      "Regnet es heute draussen? (ja/nein) jajdas\n",
      "Bitte mit ja oder nein antworten.\n",
      "Regnet es heute draussen? (ja/nein) jjjj\n",
      "Bitte mit ja oder nein antworten.\n",
      "Regnet es heute draussen? (ja/nein) ja\n",
      "True\n"
     ]
    }
   ],
   "source": [
    "regen = str\n",
    "while True:\n",
    "    regen = input(\"Regnet es heute draussen? (ja/nein) \")\n",
    "    if regen == \"ja\":\n",
    "        regenBool = True\n",
    "        break\n",
    "    elif regen == \"nein\":\n",
    "        regenBool = False\n",
    "        break\n",
    "    else:\n",
    "        print(\"Bitte mit ja oder nein antworten.\")\n",
    "        continue\n",
    "\n",
    "print(regenBool)"
   ]
  },
  {
   "cell_type": "code",
   "execution_count": 3,
   "id": "298e2270",
   "metadata": {},
   "outputs": [
    {
     "name": "stdout",
     "output_type": "stream",
     "text": [
      "Weil es heute regnet, nehme ich meinen Regenschirm.\n"
     ]
    }
   ],
   "source": [
    "if regenBool == True:\n",
    "    print(\"Weil es heute regnet, nehme ich meinen Regenschirm.\")\n",
    "else:\n",
    "    print(\"Weil es heute nicht regnet, nehme ich keinen Regenschirm.\")"
   ]
  },
  {
   "cell_type": "code",
   "execution_count": 4,
   "id": "13a99f92",
   "metadata": {},
   "outputs": [
    {
     "name": "stdout",
     "output_type": "stream",
     "text": [
      "Weil es heute regnet, nehme ich meinen Regenschirm.\n"
     ]
    }
   ],
   "source": [
    "if regenBool:\n",
    "    print(\"Weil es heute regnet, nehme ich meinen Regenschirm.\")\n",
    "else:\n",
    "    print(\"Weil es heute nicht regnet, nehme ich keinen Regenschirm.\")"
   ]
  },
  {
   "cell_type": "code",
   "execution_count": null,
   "id": "cbfc469a",
   "metadata": {},
   "outputs": [],
   "source": []
  }
 ],
 "metadata": {
  "kernelspec": {
   "display_name": "Python 3",
   "language": "python",
   "name": "python3"
  },
  "language_info": {
   "codemirror_mode": {
    "name": "ipython",
    "version": 3
   },
   "file_extension": ".py",
   "mimetype": "text/x-python",
   "name": "python",
   "nbconvert_exporter": "python",
   "pygments_lexer": "ipython3",
   "version": "3.8.8"
  }
 },
 "nbformat": 4,
 "nbformat_minor": 5
}
