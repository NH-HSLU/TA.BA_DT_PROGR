{
 "cells": [
  {
   "cell_type": "code",
   "execution_count": 1,
   "metadata": {},
   "outputs": [
    {
     "name": "stdout",
     "output_type": "stream",
     "text": [
      "Im welchen Jahr bist du geboren?re\n",
      "Im welchen Monat bist du geboren?zww\n",
      "Am welchen Tag bist du geboren?www\n",
      "Deine Angaben sind falsch oder keine Zahlen!\n"
     ]
    }
   ],
   "source": [
    "jahr = input(\"Im welchen Jahr bist du geboren?\")\n",
    "\n",
    "monat = input(\"Im welchen Monat bist du geboren?\")\n",
    "\n",
    "tag = input(\"Am welchen Tag bist du geboren?\")\n",
    "\n",
    "#print(jahr)\n",
    "#print(monat)\n",
    "#print(tag)\n",
    "\n",
    "#Datentyp wurde auf int angepasst\n",
    "\n",
    "try:\n",
    "    if type(jahr) != \"int\":\n",
    "        jahr = int(jahr)\n",
    "\n",
    "    if type(monat) != \"int\":\n",
    "        monat = int(monat)  \n",
    "\n",
    "    if type(tag) != \"int\":\n",
    "        tag = int(tag) \n",
    "\n",
    "    if monat >= 1 and monat <= 12:\n",
    "        if tag >= 1 and tag <= 31:\n",
    "            print(f\"Du bist am Tag: {tag}, Monat: {monat}, Jahr: {jahr} geboren.\")\n",
    "        else:\n",
    "            print(\"Deine Angabe war falsch!\")\n",
    "    else:\n",
    "        print(\"Deine Angabe war falsch!\")\n",
    "except:\n",
    "    print(\"Deine Angaben sind falsch oder keine Zahlen!\")"
   ]
  },
  {
   "cell_type": "code",
   "execution_count": 12,
   "metadata": {},
   "outputs": [
    {
     "name": "stdout",
     "output_type": "stream",
     "text": [
      "Mehr als 30\n"
     ]
    }
   ],
   "source": [
    "zahl = 20\n",
    "\n",
    "if not zahl > 30:\n",
    "    print(\"Mehr als 30\")\n"
   ]
  },
  {
   "cell_type": "code",
   "execution_count": 14,
   "metadata": {},
   "outputs": [
    {
     "name": "stdout",
     "output_type": "stream",
     "text": [
      "Schreibe etwaserwerwer\n",
      "erwerwer\n",
      "Schreibe etwaswerewr\n",
      "werewr\n",
      "Schreibe etwaswerew\n",
      "werew\n",
      "Schreibe etwasrwerw\n",
      "rwerw\n",
      "Schreibe etwasrwer\n",
      "rwer\n",
      "Schreibe etwaswrwer\n",
      "wrwer\n",
      "Schreibe etwasexit\n",
      "exit\n"
     ]
    }
   ],
   "source": [
    "eingabe = \"\"\n",
    "\n",
    "while eingabe != \"exit\":\n",
    "    eingabe = input(\"Schreibe etwas\")\n",
    "    print(eingabe)\n",
    "    \n",
    "    "
   ]
  },
  {
   "cell_type": "code",
   "execution_count": 15,
   "metadata": {},
   "outputs": [
    {
     "name": "stdout",
     "output_type": "stream",
     "text": [
      "0\n",
      "1\n",
      "2\n",
      "3\n",
      "4\n",
      "5\n",
      "6\n",
      "7\n",
      "8\n",
      "9\n"
     ]
    }
   ],
   "source": [
    "for i in range(0,10):\n",
    "    print(i)"
   ]
  },
  {
   "cell_type": "code",
   "execution_count": 16,
   "metadata": {},
   "outputs": [
    {
     "name": "stdout",
     "output_type": "stream",
     "text": [
      "0\n",
      "1\n",
      "2\n",
      "3\n",
      "4\n",
      "6\n",
      "7\n",
      "8\n",
      "9\n"
     ]
    }
   ],
   "source": [
    "for i in range(0,10):\n",
    "    if i == 5:\n",
    "        continue\n",
    "    print(i)"
   ]
  },
  {
   "cell_type": "code",
   "execution_count": null,
   "metadata": {},
   "outputs": [],
   "source": []
  }
 ],
 "metadata": {
  "kernelspec": {
   "display_name": "Python 3 (ipykernel)",
   "language": "python",
   "name": "python3"
  },
  "language_info": {
   "codemirror_mode": {
    "name": "ipython",
    "version": 3
   },
   "file_extension": ".py",
   "mimetype": "text/x-python",
   "name": "python",
   "nbconvert_exporter": "python",
   "pygments_lexer": "ipython3",
   "version": "3.9.12"
  }
 },
 "nbformat": 4,
 "nbformat_minor": 4
}
