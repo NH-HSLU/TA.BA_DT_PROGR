{
 "cells": [
  {
   "cell_type": "markdown",
   "metadata": {},
   "source": [
    "# Funktionen"
   ]
  },
  {
   "cell_type": "raw",
   "metadata": {},
   "source": [
    "Werden für Aufteilen und Verwalten von dem Code in die logischen Blöcke"
   ]
  },
  {
   "cell_type": "code",
   "execution_count": 1,
   "metadata": {},
   "outputs": [
    {
     "name": "stdout",
     "output_type": "stream",
     "text": [
      "Hallo Studenten\n"
     ]
    }
   ],
   "source": [
    "print(\"Hallo Studenten\")"
   ]
  },
  {
   "cell_type": "code",
   "execution_count": 1,
   "metadata": {},
   "outputs": [
    {
     "name": "stdout",
     "output_type": "stream",
     "text": [
      "CAS\n",
      "1\n",
      "CAS\n",
      "2\n"
     ]
    }
   ],
   "source": [
    "def multi_print(text1, text2):\n",
    "\n",
    "    print(text1)\n",
    "    print(text2)\n",
    "\n",
    "\n",
    "multi_print(\"CAS\", \"1\")\n",
    "multi_print(\"CAS\", \"2\")"
   ]
  },
  {
   "cell_type": "code",
   "execution_count": 3,
   "metadata": {},
   "outputs": [
    {
     "name": "stdout",
     "output_type": "stream",
     "text": [
      "Hallo Studenten\n",
      "Hallo Studenten\n"
     ]
    }
   ],
   "source": [
    "multi_print()"
   ]
  },
  {
   "cell_type": "code",
   "execution_count": 2,
   "metadata": {},
   "outputs": [],
   "source": [
    "def multi_print_2(name, anzahl):\n",
    "    \n",
    "    for i in range(0,anzahl):\n",
    "        print(name)"
   ]
  },
  {
   "cell_type": "code",
   "execution_count": 4,
   "metadata": {},
   "outputs": [
    {
     "name": "stdout",
     "output_type": "stream",
     "text": [
      "Peter\n",
      "Peter\n",
      "Peter\n",
      "Peter\n",
      "Peter\n",
      "Peter\n",
      "Peter\n",
      "Peter\n",
      "Peter\n",
      "Peter\n"
     ]
    }
   ],
   "source": [
    "multi_print_2(\"Peter\",10)"
   ]
  },
  {
   "cell_type": "code",
   "execution_count": 6,
   "metadata": {},
   "outputs": [],
   "source": [
    "def weiter_funk():\n",
    "    multi_print_2(\"Hallo\",5)\n",
    "    multi_print_2(\"Studenten\",5)"
   ]
  },
  {
   "cell_type": "code",
   "execution_count": 7,
   "metadata": {},
   "outputs": [
    {
     "name": "stdout",
     "output_type": "stream",
     "text": [
      "Hallo\n",
      "Hallo\n",
      "Hallo\n",
      "Hallo\n",
      "Hallo\n",
      "Studenten\n",
      "Studenten\n",
      "Studenten\n",
      "Studenten\n",
      "Studenten\n"
     ]
    }
   ],
   "source": [
    "weiter_funk()"
   ]
  },
  {
   "cell_type": "code",
   "execution_count": 5,
   "metadata": {},
   "outputs": [],
   "source": [
    "def maximum(a,b):\n",
    "    if a < b:\n",
    "        return b\n",
    "    else:\n",
    "        return a\n",
    "    "
   ]
  },
  {
   "cell_type": "code",
   "execution_count": 7,
   "metadata": {},
   "outputs": [
    {
     "name": "stdout",
     "output_type": "stream",
     "text": [
      "30\n"
     ]
    }
   ],
   "source": [
    "ergebnis = maximum(30,20)\n",
    "\n",
    "print(ergebnis)"
   ]
  },
  {
   "cell_type": "code",
   "execution_count": 1,
   "metadata": {},
   "outputs": [],
   "source": [
    "def MeineFunktion(a,b):\n",
    "    print(a + \"&\" + b)"
   ]
  },
  {
   "cell_type": "code",
   "execution_count": 2,
   "metadata": {},
   "outputs": [
    {
     "name": "stdout",
     "output_type": "stream",
     "text": [
      "test&uni\n"
     ]
    }
   ],
   "source": [
    "ausgabe = MeineFunktion(\"test\",\"uni\")"
   ]
  },
  {
   "cell_type": "code",
   "execution_count": null,
   "metadata": {},
   "outputs": [],
   "source": []
  }
 ],
 "metadata": {
  "kernelspec": {
   "display_name": "Python 3 (ipykernel)",
   "language": "python",
   "name": "python3"
  },
  "language_info": {
   "codemirror_mode": {
    "name": "ipython",
    "version": 3
   },
   "file_extension": ".py",
   "mimetype": "text/x-python",
   "name": "python",
   "nbconvert_exporter": "python",
   "pygments_lexer": "ipython3",
   "version": "3.12.3"
  }
 },
 "nbformat": 4,
 "nbformat_minor": 4
}
