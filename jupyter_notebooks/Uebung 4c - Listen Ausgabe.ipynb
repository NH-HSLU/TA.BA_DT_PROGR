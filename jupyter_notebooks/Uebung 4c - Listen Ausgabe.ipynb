{
 "cells": [
  {
   "cell_type": "code",
   "execution_count": 1,
   "metadata": {},
   "outputs": [
    {
     "name": "stdout",
     "output_type": "stream",
     "text": [
      "Word; Excel; PowerBI; Revit; BimCollab\n",
      "Die Programme sind: Word; Excel; PowerBI; Revit; BimCollab Anzahl: 5\n"
     ]
    }
   ],
   "source": [
    "programme = [\"Word\",\"Excel\",\"PowerBI\",\"Revit\",\"BimCollab\"]\n",
    "\n",
    "alle_programme = \"; \".join(programme)\n",
    "\n",
    "print(alle_programme)\n",
    "\n",
    "ausgabe = \"Die Programme sind: \" + alle_programme + \" Anzahl: \" + str(len(programme))\n",
    "\n",
    "print(ausgabe)"
   ]
  },
  {
   "cell_type": "code",
   "execution_count": 2,
   "metadata": {},
   "outputs": [],
   "source": [
    "programme = [\"Word\",\"Excel\",\"PowerBI\",\"Revit\",\"BimCollab\"]"
   ]
  },
  {
   "cell_type": "code",
   "execution_count": 3,
   "metadata": {},
   "outputs": [],
   "source": [
    "if \"Allplan\" in programme:\n",
    "    print(\"Kann mit Revit arbeiten.\")"
   ]
  },
  {
   "cell_type": "code",
   "execution_count": 4,
   "metadata": {},
   "outputs": [
    {
     "name": "stdout",
     "output_type": "stream",
     "text": [
      "Kann mit Revit arbeiten.\n"
     ]
    }
   ],
   "source": [
    "if \"Allplan\" in programme:\n",
    "    print(\"Kann mit Allplan arbeiten.\")\n",
    "elif \"Revit\" in programme:\n",
    "    print(\"Kann mit Revit arbeiten.\")\n"
   ]
  }
 ],
 "metadata": {
  "kernelspec": {
   "display_name": ".venv",
   "language": "python",
   "name": "python3"
  },
  "language_info": {
   "codemirror_mode": {
    "name": "ipython",
    "version": 3
   },
   "file_extension": ".py",
   "mimetype": "text/x-python",
   "name": "python",
   "nbconvert_exporter": "python",
   "pygments_lexer": "ipython3",
   "version": "3.13.7"
  }
 },
 "nbformat": 4,
 "nbformat_minor": 4
}
