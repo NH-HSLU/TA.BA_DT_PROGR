{
 "cells": [
  {
   "cell_type": "markdown",
   "metadata": {},
   "source": [
    "# Datei lesen "
   ]
  },
  {
   "cell_type": "code",
   "execution_count": 3,
   "metadata": {},
   "outputs": [
    {
     "name": "stdout",
     "output_type": "stream",
     "text": [
      "Hallo Studenten\n",
      "\n",
      "Viel Spass mit dem Python!\n"
     ]
    }
   ],
   "source": [
    "file = open(\"Datei_Zum_Lesen.txt\",\"r\")\n",
    "for line in file:\n",
    "    print(line)\n",
    "    \n",
    "file.close()"
   ]
  },
  {
   "cell_type": "code",
   "execution_count": 6,
   "metadata": {},
   "outputs": [
    {
     "name": "stdout",
     "output_type": "stream",
     "text": [
      "True\n",
      "False\n"
     ]
    }
   ],
   "source": [
    "file = open(\"Datei_Zum_Lesen.txt\",\"r\")\n",
    "for line in file:\n",
    "    print(line[-1] == \"\\n\")\n",
    "        "
   ]
  },
  {
   "cell_type": "code",
   "execution_count": 7,
   "metadata": {},
   "outputs": [
    {
     "name": "stdout",
     "output_type": "stream",
     "text": [
      "Hal\n",
      "lo\n"
     ]
    }
   ],
   "source": [
    "print(\"Hal\\nlo\")"
   ]
  },
  {
   "cell_type": "code",
   "execution_count": 8,
   "metadata": {},
   "outputs": [
    {
     "name": "stdout",
     "output_type": "stream",
     "text": [
      "Hallo Studenten\n",
      "Viel Spass mit dem Python!\n"
     ]
    }
   ],
   "source": [
    "file = open(\"Datei_Zum_Lesen.txt\",\"r\")\n",
    "for line in file:\n",
    "    print(line.strip())\n",
    "    \n",
    "file.close()"
   ]
  },
  {
   "cell_type": "markdown",
   "metadata": {},
   "source": [
    "# Datei Schreiben"
   ]
  },
  {
   "cell_type": "code",
   "execution_count": 11,
   "metadata": {},
   "outputs": [],
   "source": [
    "file = open(\"Datei_Zum_Schreiben.txt\",\"w\")\n",
    "\n",
    "studenten = [\"Peter\",\"John\",\"Monika\",\"Julia\"]\n",
    "\n",
    "for student in studenten:\n",
    "    file.write(student + \"\\n\")\n",
    "    \n",
    "file.close()"
   ]
  },
  {
   "cell_type": "markdown",
   "metadata": {},
   "source": [
    "# Daten in die Datei ergänzen"
   ]
  },
  {
   "cell_type": "code",
   "execution_count": 10,
   "metadata": {},
   "outputs": [],
   "source": [
    "file = open(\"Datei_Zum_Schreiben.txt\",\"a\")\n",
    "\n",
    "studenten = [\"Peter\",\"John\",\"Monika\",\"Julia\"]\n",
    "\n",
    "for student in studenten:\n",
    "    file.write(student + \"\\n\")\n",
    "    \n",
    "file.close()"
   ]
  },
  {
   "cell_type": "markdown",
   "metadata": {},
   "source": [
    "# With Operator"
   ]
  },
  {
   "cell_type": "code",
   "execution_count": 13,
   "metadata": {},
   "outputs": [
    {
     "name": "stdout",
     "output_type": "stream",
     "text": [
      "Peter\n",
      "John\n",
      "Monika\n",
      "Julia\n"
     ]
    }
   ],
   "source": [
    "with open(\"Datei_Zum_Schreiben.txt\",\"r\") as file:\n",
    "\n",
    "    for line in file:\n",
    "        print(line.strip())"
   ]
  },
  {
   "cell_type": "markdown",
   "metadata": {},
   "source": [
    "# CSV Datei"
   ]
  },
  {
   "cell_type": "code",
   "execution_count": 19,
   "metadata": {},
   "outputs": [
    {
     "name": "stdout",
     "output_type": "stream",
     "text": [
      "ï»¿Berlin;3000000;BER\n",
      "\n",
      "Budapest;2000000;BUD\n",
      "\n",
      "MÃ¼nchen;1800000;MUM\n",
      "\n",
      "Wien;2500000;VIE\n",
      "\n"
     ]
    }
   ],
   "source": [
    "with open(\"Städte.csv\",\"r\") as file:\n",
    "\n",
    "    for line in file:\n",
    "        print(line)"
   ]
  },
  {
   "cell_type": "code",
   "execution_count": 20,
   "metadata": {},
   "outputs": [
    {
     "name": "stdout",
     "output_type": "stream",
     "text": [
      "﻿Berlin;3000000;BER\n",
      "\n",
      "Budapest;2000000;BUD\n",
      "\n",
      "München;1800000;MUM\n",
      "\n",
      "Wien;2500000;VIE\n",
      "\n"
     ]
    }
   ],
   "source": [
    "import io\n",
    "\n",
    "with io.open(\"Städte.csv\",\"r\", encoding=\"utf8\") as file:\n",
    "\n",
    "    for line in file:\n",
    "        print(line)"
   ]
  },
  {
   "cell_type": "code",
   "execution_count": 22,
   "metadata": {},
   "outputs": [
    {
     "name": "stdout",
     "output_type": "stream",
     "text": [
      "﻿Berlin:3000000\n",
      "Budapest:2000000\n",
      "München:1800000\n",
      "Wien:2500000\n"
     ]
    }
   ],
   "source": [
    "import io\n",
    "\n",
    "with io.open(\"Städte.csv\",\"r\", encoding=\"utf8\") as file:\n",
    "\n",
    "    for line in file:\n",
    "        data = line.strip().split(\";\")\n",
    "        print(data[0] + \":\" + data[1])"
   ]
  },
  {
   "cell_type": "code",
   "execution_count": null,
   "metadata": {},
   "outputs": [],
   "source": []
  }
 ],
 "metadata": {
  "kernelspec": {
   "display_name": "Python 3",
   "language": "python",
   "name": "python3"
  },
  "language_info": {
   "codemirror_mode": {
    "name": "ipython",
    "version": 3
   },
   "file_extension": ".py",
   "mimetype": "text/x-python",
   "name": "python",
   "nbconvert_exporter": "python",
   "pygments_lexer": "ipython3",
   "version": "3.8.5"
  }
 },
 "nbformat": 4,
 "nbformat_minor": 4
}
