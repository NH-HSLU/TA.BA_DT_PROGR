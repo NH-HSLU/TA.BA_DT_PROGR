{
 "cells": [
  {
   "cell_type": "code",
   "execution_count": 8,
   "metadata": {},
   "outputs": [
    {
     "name": "stdout",
     "output_type": "stream",
     "text": [
      "Schreibe bitte ein Wort!opkü\n",
      "OPKÜ\n",
      "4\n",
      "O&Ü\n",
      "Das is\n"
     ]
    }
   ],
   "source": [
    "input_text = input(\"Schreibe bitte ein Wort!\").upper()\n",
    "\n",
    "print(input_text)\n",
    "\n",
    "print(len(input_text))\n",
    "\n",
    "ausgabe = input_text[0] + \"&\" + input_text[-1]\n",
    "\n",
    "print(ausgabe)\n",
    "\n",
    "test = \"Das ist mein Text\"\n",
    "\n",
    "print(test[:6])"
   ]
  },
  {
   "cell_type": "code",
   "execution_count": null,
   "metadata": {},
   "outputs": [],
   "source": []
  }
 ],
 "metadata": {
  "kernelspec": {
   "display_name": "Python 3",
   "language": "python",
   "name": "python3"
  },
  "language_info": {
   "codemirror_mode": {
    "name": "ipython",
    "version": 3
   },
   "file_extension": ".py",
   "mimetype": "text/x-python",
   "name": "python",
   "nbconvert_exporter": "python",
   "pygments_lexer": "ipython3",
   "version": "3.8.5"
  }
 },
 "nbformat": 4,
 "nbformat_minor": 4
}
