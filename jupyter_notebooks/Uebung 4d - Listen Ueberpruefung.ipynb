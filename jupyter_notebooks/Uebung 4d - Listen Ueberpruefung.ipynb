{
 "cells": [
  {
   "cell_type": "code",
   "execution_count": 1,
   "id": "e46bba17",
   "metadata": {},
   "outputs": [],
   "source": [
    "objekte = [\"EL-Deckenleuchte\", \"ARCH-Fenster\", \"HLKS-Lüftungsleitungen\", \"ARCH-Türen\", \"ARCH-Wände\", \"HLKS-Sanitärleitungen\", \"EL-Notfallbeleuchtung\", \"EL-Rauchmelder\", \"ARCH-Treppe\", \"ARCH-Brüstungselemente\", \"EL-Elektrokasten\"] "
   ]
  },
  {
   "cell_type": "code",
   "execution_count": 2,
   "id": "656d34f9",
   "metadata": {},
   "outputs": [],
   "source": [
    "arch = []\n",
    "el = []\n",
    "hlks = []\n",
    "\n",
    "for i in objekte:\n",
    "    if i[0] == \"A\":\n",
    "        arch.append(i)\n",
    "    elif i[0] == \"E\":\n",
    "        el.append(i)\n",
    "    elif i[0] == \"H\":\n",
    "        hlks.append(i)"
   ]
  },
  {
   "cell_type": "code",
   "execution_count": 3,
   "id": "4087f280",
   "metadata": {},
   "outputs": [
    {
     "name": "stdout",
     "output_type": "stream",
     "text": [
      "Zu den ARCH Objekte in der Liste gehören:  ['ARCH-Fenster', 'ARCH-Türen', 'ARCH-Wände', 'ARCH-Treppe', 'ARCH-Brüstungselemente']\n",
      "Zu den EL Objekte in der Liste gehören:  ['EL-Deckenleuchte', 'EL-Notfallbeleuchtung', 'EL-Rauchmelder', 'EL-Elektrokasten']\n",
      "Zu den HLKS Objekte in der Liste gehören:  ['HLKS-Lüftungsleitungen', 'HLKS-Sanitärleitungen']\n"
     ]
    }
   ],
   "source": [
    "print(\"Zu den ARCH Objekte in der Liste gehören: \", arch)\n",
    "print(\"Zu den EL Objekte in der Liste gehören: \", el)\n",
    "print(\"Zu den HLKS Objekte in der Liste gehören: \", hlks)"
   ]
  },
  {
   "cell_type": "code",
   "execution_count": 4,
   "id": "eb9f75c4",
   "metadata": {},
   "outputs": [],
   "source": [
    "arch = []\n",
    "el = []\n",
    "hlks = []\n",
    "\n",
    "ix = 0\n",
    "while ix<len(objekte):\n",
    "    i = objekte[ix]\n",
    "    \n",
    "    if i[0] == \"A\":\n",
    "        arch.append(i)\n",
    "    elif i[0] == \"E\":\n",
    "        el.append(i)\n",
    "    elif i[0] == \"H\":\n",
    "        hlks.append(i)\n",
    "        \n",
    "    ix += 1"
   ]
  },
  {
   "cell_type": "code",
   "execution_count": 5,
   "id": "5b59ac79",
   "metadata": {},
   "outputs": [
    {
     "name": "stdout",
     "output_type": "stream",
     "text": [
      "Zu den ARCH Objekte in der Liste gehören:  ['ARCH-Fenster', 'ARCH-Türen', 'ARCH-Wände', 'ARCH-Treppe', 'ARCH-Brüstungselemente']\n",
      "Zu den EL Objekte in der Liste gehören:  ['EL-Deckenleuchte', 'EL-Notfallbeleuchtung', 'EL-Rauchmelder', 'EL-Elektrokasten']\n",
      "Zu den HLKS Objekte in der Liste gehören:  ['HLKS-Lüftungsleitungen', 'HLKS-Sanitärleitungen']\n"
     ]
    }
   ],
   "source": [
    "print(\"Zu den ARCH Objekte in der Liste gehören: \", arch)\n",
    "print(\"Zu den EL Objekte in der Liste gehören: \", el)\n",
    "print(\"Zu den HLKS Objekte in der Liste gehören: \", hlks)"
   ]
  },
  {
   "cell_type": "code",
   "execution_count": null,
   "id": "64664001",
   "metadata": {},
   "outputs": [],
   "source": []
  }
 ],
 "metadata": {
  "kernelspec": {
   "display_name": "Python 3 (ipykernel)",
   "language": "python",
   "name": "python3"
  },
  "language_info": {
   "codemirror_mode": {
    "name": "ipython",
    "version": 3
   },
   "file_extension": ".py",
   "mimetype": "text/x-python",
   "name": "python",
   "nbconvert_exporter": "python",
   "pygments_lexer": "ipython3",
   "version": "3.9.12"
  }
 },
 "nbformat": 4,
 "nbformat_minor": 5
}
