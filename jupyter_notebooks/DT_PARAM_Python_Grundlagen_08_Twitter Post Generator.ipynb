{
 "cells": [
  {
   "cell_type": "markdown",
   "metadata": {},
   "source": [
    "# Basis Wörter"
   ]
  },
  {
   "cell_type": "code",
   "execution_count": 1,
   "metadata": {},
   "outputs": [],
   "source": [
    "part1 = [\"Putin, \",\"Hillary, \",\"Obama, \",\"Fake News, \",\"Mexico, \",\"Arnold Schwarzenegger, \",\"The Democrats, \",\"Switzerland, \"]\n",
    "part2 = [\"no talent,\",\"on the way down,\",\"really poor numbers,\",\"nasty tone,\",\"looking like a fool,\",\"bad hombre,\",\"what a loser,\"]\n",
    "part3 = [\"got destroyed by my ratings.\",\"rigged the election.\",\"had a much smaller crowd.\",\"will pay for the wall.\"]\n",
    "part4 = [\"So sad\",\"Apologize\",\"So true\",\"Madia won't report\",\"Big trouble\",\"Fantastic job\",\"Stay tuned\"]\n"
   ]
  },
  {
   "cell_type": "code",
   "execution_count": 2,
   "metadata": {},
   "outputs": [],
   "source": [
    "best_words = [part1,part2,part3,part4]"
   ]
  },
  {
   "cell_type": "code",
   "execution_count": 3,
   "metadata": {},
   "outputs": [
    {
     "name": "stdout",
     "output_type": "stream",
     "text": [
      "[['Putin, ', 'Hillary, ', 'Obama, ', 'Fake News, ', 'Mexico, ', 'Arnold Schwarzenegger, ', 'The Democrats, ', 'Switzerland, '], ['no talent,', 'on the way down,', 'really poor numbers,', 'nasty tone,', 'looking like a fool,', 'bad hombre,', 'what a loser,'], ['got destroyed by my ratings.', 'rigged the election.', 'had a much smaller crowd.', 'will pay for the wall.'], ['So sad', 'Apologize', 'So true', \"Madia won't report\", 'Big trouble', 'Fantastic job', 'Stay tuned']]\n"
     ]
    }
   ],
   "source": [
    "print(best_words)"
   ]
  },
  {
   "cell_type": "markdown",
   "metadata": {},
   "source": [
    "# Tweet-Generator "
   ]
  },
  {
   "cell_type": "code",
   "execution_count": 4,
   "metadata": {},
   "outputs": [
    {
     "name": "stdout",
     "output_type": "stream",
     "text": [
      "Hillary,  no talent, got destroyed by my ratings. Apologize\n"
     ]
    }
   ],
   "source": [
    "import random\n",
    "sentence = []\n",
    "\n",
    "for part in best_words:\n",
    "    r = random.randint(0,len(part)-1)\n",
    "    sentence.append(part[r])\n",
    "    \n",
    "print(\" \".join(sentence))"
   ]
  },
  {
   "cell_type": "code",
   "execution_count": null,
   "metadata": {},
   "outputs": [],
   "source": []
  },
  {
   "cell_type": "code",
   "execution_count": null,
   "metadata": {},
   "outputs": [],
   "source": []
  }
 ],
 "metadata": {
  "kernelspec": {
   "display_name": ".venv",
   "language": "python",
   "name": "python3"
  },
  "language_info": {
   "codemirror_mode": {
    "name": "ipython",
    "version": 3
   },
   "file_extension": ".py",
   "mimetype": "text/x-python",
   "name": "python",
   "nbconvert_exporter": "python",
   "pygments_lexer": "ipython3",
   "version": "3.13.7"
  }
 },
 "nbformat": 4,
 "nbformat_minor": 4
}
