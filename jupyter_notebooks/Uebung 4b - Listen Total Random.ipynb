{
 "cells": [
  {
   "cell_type": "code",
   "execution_count": 1,
   "id": "a001dde8",
   "metadata": {},
   "outputs": [],
   "source": [
    "import random"
   ]
  },
  {
   "cell_type": "code",
   "execution_count": 2,
   "id": "b576073d",
   "metadata": {},
   "outputs": [
    {
     "name": "stdout",
     "output_type": "stream",
     "text": [
      "[640, 238, 344, 478, 55, 225, 273, 450, 578, 280, 287, 503, 178, 977, 103, 720, 294, 524, 144, 683]\n"
     ]
    }
   ],
   "source": [
    "listOfNumbers = []\n",
    "#random.seed(1)\n",
    "for i in range(0,20):\n",
    "    n = random.randint(1,1000)\n",
    "    listOfNumbers.append(n)\n",
    "print(listOfNumbers)"
   ]
  },
  {
   "cell_type": "code",
   "execution_count": 3,
   "id": "ff33da5b",
   "metadata": {},
   "outputs": [
    {
     "name": "stdout",
     "output_type": "stream",
     "text": [
      "640\n",
      "878\n",
      "1222\n",
      "1700\n",
      "1755\n",
      "1980\n",
      "2253\n",
      "2703\n",
      "3281\n",
      "3561\n",
      "3848\n",
      "4351\n",
      "4529\n",
      "5506\n",
      "5609\n",
      "6329\n",
      "6623\n",
      "7147\n",
      "7291\n",
      "7974\n",
      "Die Summe aller Nummern in der Liste ist: 7974\n"
     ]
    }
   ],
   "source": [
    "\n",
    "total = 0\n",
    "for i in listOfNumbers:\n",
    "    total = total + i\n",
    "    print(total)\n",
    "print(\"Die Summe aller Nummern in der Liste ist:\", total)"
   ]
  },
  {
   "cell_type": "code",
   "execution_count": null,
   "id": "00565ee0",
   "metadata": {},
   "outputs": [],
   "source": []
  }
 ],
 "metadata": {
  "kernelspec": {
   "display_name": ".venv",
   "language": "python",
   "name": "python3"
  },
  "language_info": {
   "codemirror_mode": {
    "name": "ipython",
    "version": 3
   },
   "file_extension": ".py",
   "mimetype": "text/x-python",
   "name": "python",
   "nbconvert_exporter": "python",
   "pygments_lexer": "ipython3",
   "version": "3.13.7"
  }
 },
 "nbformat": 4,
 "nbformat_minor": 5
}
