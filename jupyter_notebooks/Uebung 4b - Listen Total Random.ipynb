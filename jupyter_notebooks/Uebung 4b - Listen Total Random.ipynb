{
 "cells": [
  {
   "cell_type": "code",
   "execution_count": 36,
   "id": "a001dde8",
   "metadata": {},
   "outputs": [],
   "source": [
    "import random"
   ]
  },
  {
   "cell_type": "code",
   "execution_count": 39,
   "id": "b576073d",
   "metadata": {},
   "outputs": [
    {
     "name": "stdout",
     "output_type": "stream",
     "text": [
      "[27, 666, 555, 10, 962, 903, 391, 703, 222, 993, 433, 744, 30, 541, 228, 783, 449, 962, 508, 567]\n"
     ]
    }
   ],
   "source": [
    "listOfNumbers = []\n",
    "#random.seed(1)\n",
    "for i in range(0,20):\n",
    "    n = random.randint(1,1000)\n",
    "    listOfNumbers.append(n)\n",
    "print(listOfNumbers)"
   ]
  },
  {
   "cell_type": "code",
   "execution_count": 40,
   "id": "ff33da5b",
   "metadata": {},
   "outputs": [
    {
     "name": "stdout",
     "output_type": "stream",
     "text": [
      "27\n",
      "693\n",
      "1248\n",
      "1258\n",
      "2220\n",
      "3123\n",
      "3514\n",
      "4217\n",
      "4439\n",
      "5432\n",
      "5865\n",
      "6609\n",
      "6639\n",
      "7180\n",
      "7408\n",
      "8191\n",
      "8640\n",
      "9602\n",
      "10110\n",
      "10677\n",
      "Die Summe aller Nummern in der Liste ist: 10677\n"
     ]
    }
   ],
   "source": [
    "\n",
    "total = 0\n",
    "for i in listOfNumbers:\n",
    "    total = total + i\n",
    "    print(total)\n",
    "print(\"Die Summe aller Nummern in der Liste ist:\", total)"
   ]
  },
  {
   "cell_type": "code",
   "execution_count": null,
   "id": "00565ee0",
   "metadata": {},
   "outputs": [],
   "source": []
  }
 ],
 "metadata": {
  "kernelspec": {
   "display_name": "Python 3 (ipykernel)",
   "language": "python",
   "name": "python3"
  },
  "language_info": {
   "codemirror_mode": {
    "name": "ipython",
    "version": 3
   },
   "file_extension": ".py",
   "mimetype": "text/x-python",
   "name": "python",
   "nbconvert_exporter": "python",
   "pygments_lexer": "ipython3",
   "version": "3.9.12"
  }
 },
 "nbformat": 4,
 "nbformat_minor": 5
}
