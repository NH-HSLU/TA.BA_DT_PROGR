{
 "cells": [
  {
   "cell_type": "code",
   "execution_count": 23,
   "id": "01d90116",
   "metadata": {},
   "outputs": [],
   "source": [
    "base_data = [[\"D02.01\", \"Managementebene\"],[\"D05.02\",\"Wärmeerzeugung\"],[\"E02.04\",\"Systemfassade\"],[\"G01.05\",\" Innentür\"],[\"C02.01\",\"Aussenwandkonstruktion\"]]"
   ]
  },
  {
   "cell_type": "code",
   "execution_count": 24,
   "id": "4e29d373",
   "metadata": {},
   "outputs": [
    {
     "name": "stdout",
     "output_type": "stream",
     "text": [
      "Anzahl der Elemente in Technik ist: 1\n",
      "Anzahl der Elemente in Konstruktion ist: 1\n",
      "Anzahl der Elemente in Fassade ist: 1\n",
      "Anzahl der Elemente in Ausbau ist: 1\n",
      "Elemente in Technik sind: \n",
      "D05.02 : Wärmeerzeugung\n",
      "Elemente in Konstruktion sind: \n",
      "C02.01 : Aussenwandkonstruktion\n",
      "Elemente in Fassade sind: \n",
      "E02.04 : Systemfassade\n",
      "Elemente in Ausbau sind: \n",
      "G01.05 :  Innentür\n"
     ]
    }
   ],
   "source": [
    "lst_technik = []\n",
    "lst_konstruktion = []\n",
    "lst_fassade = []\n",
    "lst_ausbau = []\n",
    "\n",
    "for d in base_data:\n",
    "    act_data = d\n",
    "    if \"C\" in act_data[0]:\n",
    "        lst_konstruktion.append(act_data)\n",
    "    elif \"D\" in act_data[0]:\n",
    "        lst_technik.append(act_data)\n",
    "    elif \"E\" in act_data[0]:\n",
    "        lst_fassade.append(act_data)\n",
    "    elif \"G\" in act_data[0]:\n",
    "        lst_ausbau.append(act_data)\n",
    "    else:\n",
    "        pass\n",
    "\n",
    "print(\"Anzahl der Elemente in Technik ist: \" + str(len(lst_technik)))\n",
    "print(\"Anzahl der Elemente in Konstruktion ist: \" + str(len(lst_konstruktion)))\n",
    "print(\"Anzahl der Elemente in Fassade ist: \" + str(len(lst_fassade)))\n",
    "print(\"Anzahl der Elemente in Ausbau ist: \" + str(len(lst_ausbau)))\n",
    "\n",
    "print_element_content(\"Technik\", lst_technik)\n",
    "print_element_content(\"Konstruktion\", lst_konstruktion)\n",
    "print_element_content(\"Fassade\", lst_fassade)\n",
    "print_element_content(\"Ausbau\", lst_ausbau)\n",
    "    \n"
   ]
  },
  {
   "cell_type": "markdown",
   "id": "6bbeb69c",
   "metadata": {},
   "source": [
    "# Einführung Funktionen"
   ]
  },
  {
   "cell_type": "code",
   "execution_count": 1,
   "id": "e39abd63",
   "metadata": {},
   "outputs": [],
   "source": [
    "def print_element_content(group_name, group_list):\n",
    "    try:\n",
    "        print(f\"Elemente in {group_name} sind: \")\n",
    "        for e in group_list:\n",
    "            print(\" : \".join(e))\n",
    "    except:\n",
    "        print(\"Falsche Daten eingegeben\")"
   ]
  },
  {
   "cell_type": "markdown",
   "id": "12b45974",
   "metadata": {},
   "source": [
    "# Varianten von For Loop"
   ]
  },
  {
   "cell_type": "code",
   "execution_count": 25,
   "id": "f2d83d77",
   "metadata": {},
   "outputs": [
    {
     "name": "stdout",
     "output_type": "stream",
     "text": [
      "0\n",
      "1\n",
      "2\n",
      "3\n",
      "4\n",
      "5\n",
      "6\n",
      "7\n",
      "8\n",
      "9\n"
     ]
    }
   ],
   "source": [
    "for i in range(0,10):\n",
    "    print(i)"
   ]
  },
  {
   "cell_type": "code",
   "execution_count": 18,
   "id": "302ba87b",
   "metadata": {},
   "outputs": [
    {
     "name": "stdout",
     "output_type": "stream",
     "text": [
      "2\n",
      "5\n",
      "7\n",
      "3\n",
      "0\n",
      "7\n",
      "hallo\n"
     ]
    }
   ],
   "source": [
    "my_lst = [2,5,7,3,0,7,\"hallo\"]\n",
    "\n",
    "for x in my_lst:\n",
    "    print(x)"
   ]
  },
  {
   "cell_type": "code",
   "execution_count": 19,
   "id": "6574640b",
   "metadata": {},
   "outputs": [
    {
     "name": "stdout",
     "output_type": "stream",
     "text": [
      "2\n",
      "5\n",
      "7\n",
      "3\n",
      "0\n",
      "7\n",
      "hallo\n"
     ]
    }
   ],
   "source": [
    "for i in range(len(my_lst)):\n",
    "    print(my_lst[i])"
   ]
  },
  {
   "cell_type": "code",
   "execution_count": null,
   "id": "4a4f56e3",
   "metadata": {},
   "outputs": [],
   "source": []
  }
 ],
 "metadata": {
  "kernelspec": {
   "display_name": "Python 3 (ipykernel)",
   "language": "python",
   "name": "python3"
  },
  "language_info": {
   "codemirror_mode": {
    "name": "ipython",
    "version": 3
   },
   "file_extension": ".py",
   "mimetype": "text/x-python",
   "name": "python",
   "nbconvert_exporter": "python",
   "pygments_lexer": "ipython3",
   "version": "3.10.9"
  }
 },
 "nbformat": 4,
 "nbformat_minor": 5
}
